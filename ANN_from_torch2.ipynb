{
 "cells": [
  {
   "cell_type": "code",
   "execution_count": null,
   "id": "7635feb7-11b6-4983-8c4f-9d7b77947563",
   "metadata": {},
   "outputs": [],
   "source": [
    "import numpy as np\n",
    "import torch\n",
    "import torch.nn as nn\n",
    "%matplotlib ipympl\n",
    "import matplotlib.pyplot as plt\n",
    "import pandas as pd"
   ]
  },
  {
   "cell_type": "code",
   "execution_count": null,
   "id": "c1f4e8fc-1a8a-46e0-a603-05cb57f141ce",
   "metadata": {},
   "outputs": [],
   "source": [
    "data = pd.read_csv(\"data_NN.csv\",sep=\";\",header=0,names=(\"d1\",\"d2\",\"d3\"),decimal=\",\")"
   ]
  },
  {
   "cell_type": "code",
   "execution_count": null,
   "id": "6f808d89-6f6f-4a7a-ad46-f56e2b9dc9ca",
   "metadata": {},
   "outputs": [],
   "source": [
    "X_data = np.concatenate((np.array([[-2,0,-1]]),data[:-1]), axis=0)\n",
    "y_data = np.array(data)\n",
    "\n",
    "n_features = np.size(X_data,1)\n",
    "n_outputs = np.size(y_data,1)\n",
    "\n",
    "x = torch.from_numpy(X_data)\n",
    "y = torch.from_numpy(y_data)"
   ]
  },
  {
   "cell_type": "code",
   "execution_count": null,
   "id": "aadad73e-123b-4416-bcf4-82a855fc5e8f",
   "metadata": {},
   "outputs": [],
   "source": [
    "# Defining input size, input layer size, hidden layer size, output size and batch size respectively\n",
    "input_size, n_in, n_h, n_out, batch_size = n_features, 3, 3, n_outputs, 1000"
   ]
  },
  {
   "cell_type": "code",
   "execution_count": null,
   "id": "165ffad4-d191-46f8-a6d8-de79d17bbe26",
   "metadata": {},
   "outputs": [],
   "source": [
    "# Create a model\n",
    "model = nn.Sequential(\n",
    "    nn.Linear(input_size,n_in),\n",
    "    nn.Tanhshrink(),\n",
    "    nn.Linear(n_in,n_h),\n",
    "    nn.Tanhshrink(),\n",
    "    nn.Linear(n_h,n_out),\n",
    "    nn.Tanhshrink()).double()"
   ]
  },
  {
   "cell_type": "code",
   "execution_count": null,
   "id": "96b3ccff-7848-4f34-8cec-1d3d35d87388",
   "metadata": {},
   "outputs": [],
   "source": [
    "# Construct the loss function\n",
    "criterion = torch.nn.L1Loss()\n",
    "\n",
    "# Construct the optimizer (Adamax in this case)\n",
    "optimizer = torch.optim.Adamax(model.parameters(), lr = 0.0005, weight_decay=0.0005) "
   ]
  },
  {
   "cell_type": "code",
   "execution_count": null,
   "id": "df3e3bcb-72e4-4178-92b4-03a4725352ef",
   "metadata": {},
   "outputs": [],
   "source": [
    "# Gradient Descent\n",
    "epochs = 50000\n",
    "losses = []\n",
    "for epoch in range(epochs):\n",
    "    # Forward pass: Compute predicted y by passing x to the model\n",
    "    prediction = model(x)\n",
    "\n",
    "    # Compute and print loss\n",
    "    error = criterion(prediction, y)\n",
    "    y_pred, loss = prediction, error\n",
    "    losses.append(loss.item())\n",
    "    if epoch % (epochs/10) == (epochs/10-1):\n",
    "        print('epoch: ', epoch,' loss: ', loss.item())\n",
    "\n",
    "    # Zero gradients, perform a backward pass, and update the weights.\n",
    "    optimizer.zero_grad()\n",
    "\n",
    "    # perform a backward pass (backpropagation)\n",
    "    loss.backward()\n",
    "\n",
    "    # Update the parameters\n",
    "    optimizer.step()"
   ]
  },
  {
   "cell_type": "code",
   "execution_count": null,
   "id": "1e8cdb17-be45-4030-b744-d5edad47b641",
   "metadata": {},
   "outputs": [],
   "source": [
    "# visualizing the error after each epoch\n",
    "cut = int(epoch*0.1)\n",
    "fig, (ax1, ax2) = plt.subplots(2, 1)\n",
    "fig.suptitle('Error on training data after each epoch')\n",
    "ax1.plot(np.arange(1, cut+1), np.array(losses[:cut]))\n",
    "ax1.set_ylabel('epochs 1 to %i' %(cut+1))\n",
    "ax2.plot(np.arange(cut+1, epoch+1), np.array(losses[cut+1:]))\n",
    "ax2.set_xlabel('epochs')\n",
    "ax2.set_ylabel('epochs '+str(cut+1)+' to '+str(epoch))\n",
    "plt.show()\n",
    "print(np.array(losses).min(), losses[epoch])\n",
    "y_predicted = y_pred.detach().numpy()"
   ]
  },
  {
   "cell_type": "code",
   "execution_count": null,
   "id": "0a5b54e0-1a9b-469c-bbf9-6fee757f3177",
   "metadata": {},
   "outputs": [],
   "source": [
    "# 3D plotting\n",
    "def d3plot(data, label, colour, title='3d plot'):\n",
    "    fig = plt.figure(figsize = (12,12))\n",
    "    ax = fig.add_subplot(111,projection='3d')\n",
    "    if (type(data) is not tuple): data, label, colour = (data,), (label,), (colour,)\n",
    "    for i in range(len(data)):\n",
    "        ax.plot3D((data[i])[:,0], (data[i])[:,1], (data[i])[:,2], colour[i], label=label[i])\n",
    "    ax.legend()\n",
    "    ax.set_title(title)\n",
    "    ax.set_xlabel('X1')\n",
    "    ax.set_ylabel('X2')\n",
    "    ax.set_zlabel('X3')\n",
    "    return plt.show()"
   ]
  },
  {
   "cell_type": "code",
   "execution_count": null,
   "id": "f37d3aa2-b23c-440d-8343-02627f8c514e",
   "metadata": {},
   "outputs": [],
   "source": [
    "d3plot((y_predicted, y_data), label=('predicted','f(Xκ)'), colour=('r','b'), \n",
    "       title='Η απόκριση του συστήματος και η εκτίμησή της από το νευρωνικό για τα δεδομένα Xκ')"
   ]
  },
  {
   "cell_type": "code",
   "execution_count": null,
   "id": "91228588-3423-482d-b6a0-786eb852f2a2",
   "metadata": {},
   "outputs": [],
   "source": [
    "xk = torch.tensor([[-1.9, 0.0, -0.9]], dtype=torch.double)\n",
    "x_val = []\n",
    "steps = 200\n",
    "for i in range(steps):\n",
    "    xk = model(xk)\n",
    "    x_val.append(xk.detach().numpy())\n",
    "x_val = np.squeeze(x_val)"
   ]
  },
  {
   "cell_type": "code",
   "execution_count": null,
   "id": "082d3af1-3d40-45fe-a182-f56fd1eb9007",
   "metadata": {},
   "outputs": [],
   "source": [
    "d3plot((x_val, y_data[:steps]), label=('x_val','f(Xκ)'), colour=('g','b'), \n",
    "        title='Γραφική απεικόνιση της πρόβλεψης του νευρωνικού για την απόκριση του συστήματος'\n",
    "        '\\n με αρχική κατάσταση x0=(-1.9, 0, -0.9)  για 200 επαναλήψεις,'\n",
    "        '\\n σε αντιπαραβολή με τις 200 πρώτες μετρήσεις για την απόκριση του συστήματος'\n",
    "        '\\n με αρχική κατάσταση x0=(-2, 0, -1)')"
   ]
  }
 ],
 "metadata": {
  "kernelspec": {
   "display_name": "Python 3 (ipykernel)",
   "language": "python",
   "name": "python3"
  },
  "language_info": {
   "codemirror_mode": {
    "name": "ipython",
    "version": 3
   },
   "file_extension": ".py",
   "mimetype": "text/x-python",
   "name": "python",
   "nbconvert_exporter": "python",
   "pygments_lexer": "ipython3",
   "version": "3.11.9"
  }
 },
 "nbformat": 4,
 "nbformat_minor": 5
}
